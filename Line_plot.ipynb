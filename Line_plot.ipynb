{
 "cells": [
  {
   "cell_type": "markdown",
   "metadata": {},
   "source": [
    "\n"
   ]
  },
  {
   "cell_type": "markdown",
   "metadata": {},
   "source": [
    "# Visualization of Top 500 Indian Cities\n",
    "## Data of 500 Cities with population more than 1 Lac by Census 2011\n",
    "It is to visualize where the future cities of India stands today"
   ]
  },
  {
   "cell_type": "markdown",
   "metadata": {},
   "source": [
    "## *Preparing Data for visualization* <a id=\"4\"></a>"
   ]
  },
  {
   "cell_type": "markdown",
   "metadata": {},
   "source": [
    "The first thing we'll do is import two key data analysis modules: **Pandas** and **Numpy**."
   ]
  },
  {
   "cell_type": "code",
   "execution_count": 1,
   "metadata": {},
   "outputs": [],
   "source": [
    "import numpy as np  # useful for many scientific computing in Python\n",
    "import pandas as pd # primary data structure library"
   ]
  },
  {
   "cell_type": "markdown",
   "metadata": {},
   "source": [
    "Now let us import our primary Data of 500 Cities using *pandas* read_csv() method\n",
    "Now let us read in our data."
   ]
  },
  {
   "cell_type": "code",
   "execution_count": 2,
   "metadata": {},
   "outputs": [
    {
     "name": "stdout",
     "output_type": "stream",
     "text": [
      "Data read into a pandas dataframe!\n"
     ]
    }
   ],
   "source": [
    "dt = pd.read_csv('cities_r2.csv')\n",
    "print ('Data read into a pandas dataframe!')"
   ]
  },
  {
   "cell_type": "markdown",
   "metadata": {},
   "source": [
    "Let's view the top 5 rows of the dataset using the `head()` function."
   ]
  },
  {
   "cell_type": "code",
   "execution_count": 3,
   "metadata": {},
   "outputs": [
    {
     "data": {
      "text/html": [
       "<div>\n",
       "<style scoped>\n",
       "    .dataframe tbody tr th:only-of-type {\n",
       "        vertical-align: middle;\n",
       "    }\n",
       "\n",
       "    .dataframe tbody tr th {\n",
       "        vertical-align: top;\n",
       "    }\n",
       "\n",
       "    .dataframe thead th {\n",
       "        text-align: right;\n",
       "    }\n",
       "</style>\n",
       "<table border=\"1\" class=\"dataframe\">\n",
       "  <thead>\n",
       "    <tr style=\"text-align: right;\">\n",
       "      <th></th>\n",
       "      <th>name_of_city</th>\n",
       "      <th>state_code</th>\n",
       "      <th>state_name</th>\n",
       "      <th>dist_code</th>\n",
       "      <th>population_total</th>\n",
       "      <th>population_male</th>\n",
       "      <th>population_female</th>\n",
       "      <th>0-6_population_total</th>\n",
       "      <th>0-6_population_male</th>\n",
       "      <th>0-6_population_female</th>\n",
       "      <th>...</th>\n",
       "      <th>literates_female</th>\n",
       "      <th>sex_ratio</th>\n",
       "      <th>child_sex_ratio</th>\n",
       "      <th>effective_literacy_rate_total</th>\n",
       "      <th>effective_literacy_rate_male</th>\n",
       "      <th>effective_literacy_rate_female</th>\n",
       "      <th>location</th>\n",
       "      <th>total_graduates</th>\n",
       "      <th>male_graduates</th>\n",
       "      <th>female_graduates</th>\n",
       "    </tr>\n",
       "  </thead>\n",
       "  <tbody>\n",
       "    <tr>\n",
       "      <th>0</th>\n",
       "      <td>Abohar</td>\n",
       "      <td>3</td>\n",
       "      <td>PUNJAB</td>\n",
       "      <td>9</td>\n",
       "      <td>145238</td>\n",
       "      <td>76840</td>\n",
       "      <td>68398</td>\n",
       "      <td>15870</td>\n",
       "      <td>8587</td>\n",
       "      <td>7283</td>\n",
       "      <td>...</td>\n",
       "      <td>44972</td>\n",
       "      <td>890</td>\n",
       "      <td>848</td>\n",
       "      <td>79.86</td>\n",
       "      <td>85.49</td>\n",
       "      <td>73.59</td>\n",
       "      <td>30.1452928,74.1993043</td>\n",
       "      <td>16287</td>\n",
       "      <td>8612</td>\n",
       "      <td>7675</td>\n",
       "    </tr>\n",
       "    <tr>\n",
       "      <th>1</th>\n",
       "      <td>Achalpur</td>\n",
       "      <td>27</td>\n",
       "      <td>MAHARASHTRA</td>\n",
       "      <td>7</td>\n",
       "      <td>112293</td>\n",
       "      <td>58256</td>\n",
       "      <td>54037</td>\n",
       "      <td>11810</td>\n",
       "      <td>6186</td>\n",
       "      <td>5624</td>\n",
       "      <td>...</td>\n",
       "      <td>43086</td>\n",
       "      <td>928</td>\n",
       "      <td>909</td>\n",
       "      <td>91.99</td>\n",
       "      <td>94.77</td>\n",
       "      <td>89.00</td>\n",
       "      <td>21.257584,77.5086754</td>\n",
       "      <td>8863</td>\n",
       "      <td>5269</td>\n",
       "      <td>3594</td>\n",
       "    </tr>\n",
       "    <tr>\n",
       "      <th>2</th>\n",
       "      <td>Adilabad</td>\n",
       "      <td>28</td>\n",
       "      <td>ANDHRA PRADESH</td>\n",
       "      <td>1</td>\n",
       "      <td>117388</td>\n",
       "      <td>59232</td>\n",
       "      <td>58156</td>\n",
       "      <td>13103</td>\n",
       "      <td>6731</td>\n",
       "      <td>6372</td>\n",
       "      <td>...</td>\n",
       "      <td>37660</td>\n",
       "      <td>982</td>\n",
       "      <td>947</td>\n",
       "      <td>80.51</td>\n",
       "      <td>88.18</td>\n",
       "      <td>72.73</td>\n",
       "      <td>19.0809075,79.560344</td>\n",
       "      <td>10565</td>\n",
       "      <td>6797</td>\n",
       "      <td>3768</td>\n",
       "    </tr>\n",
       "    <tr>\n",
       "      <th>3</th>\n",
       "      <td>Adityapur</td>\n",
       "      <td>20</td>\n",
       "      <td>JHARKHAND</td>\n",
       "      <td>24</td>\n",
       "      <td>173988</td>\n",
       "      <td>91495</td>\n",
       "      <td>82493</td>\n",
       "      <td>23042</td>\n",
       "      <td>12063</td>\n",
       "      <td>10979</td>\n",
       "      <td>...</td>\n",
       "      <td>54515</td>\n",
       "      <td>902</td>\n",
       "      <td>910</td>\n",
       "      <td>83.46</td>\n",
       "      <td>89.98</td>\n",
       "      <td>76.23</td>\n",
       "      <td>22.7834741,86.1576889</td>\n",
       "      <td>19225</td>\n",
       "      <td>12189</td>\n",
       "      <td>7036</td>\n",
       "    </tr>\n",
       "    <tr>\n",
       "      <th>4</th>\n",
       "      <td>Adoni</td>\n",
       "      <td>28</td>\n",
       "      <td>ANDHRA PRADESH</td>\n",
       "      <td>21</td>\n",
       "      <td>166537</td>\n",
       "      <td>82743</td>\n",
       "      <td>83794</td>\n",
       "      <td>18406</td>\n",
       "      <td>9355</td>\n",
       "      <td>9051</td>\n",
       "      <td>...</td>\n",
       "      <td>45089</td>\n",
       "      <td>1013</td>\n",
       "      <td>968</td>\n",
       "      <td>68.38</td>\n",
       "      <td>76.58</td>\n",
       "      <td>60.33</td>\n",
       "      <td>15.6322227,77.2728368</td>\n",
       "      <td>11902</td>\n",
       "      <td>7871</td>\n",
       "      <td>4031</td>\n",
       "    </tr>\n",
       "  </tbody>\n",
       "</table>\n",
       "<p>5 rows × 22 columns</p>\n",
       "</div>"
      ],
      "text/plain": [
       "  name_of_city  state_code      state_name  dist_code  population_total  \\\n",
       "0      Abohar            3          PUNJAB          9            145238   \n",
       "1    Achalpur           27     MAHARASHTRA          7            112293   \n",
       "2    Adilabad           28  ANDHRA PRADESH          1            117388   \n",
       "3   Adityapur           20       JHARKHAND         24            173988   \n",
       "4       Adoni           28  ANDHRA PRADESH         21            166537   \n",
       "\n",
       "   population_male  population_female  0-6_population_total  \\\n",
       "0            76840              68398                 15870   \n",
       "1            58256              54037                 11810   \n",
       "2            59232              58156                 13103   \n",
       "3            91495              82493                 23042   \n",
       "4            82743              83794                 18406   \n",
       "\n",
       "   0-6_population_male  0-6_population_female  ...  literates_female  \\\n",
       "0                 8587                   7283  ...             44972   \n",
       "1                 6186                   5624  ...             43086   \n",
       "2                 6731                   6372  ...             37660   \n",
       "3                12063                  10979  ...             54515   \n",
       "4                 9355                   9051  ...             45089   \n",
       "\n",
       "   sex_ratio  child_sex_ratio  effective_literacy_rate_total  \\\n",
       "0        890              848                          79.86   \n",
       "1        928              909                          91.99   \n",
       "2        982              947                          80.51   \n",
       "3        902              910                          83.46   \n",
       "4       1013              968                          68.38   \n",
       "\n",
       "   effective_literacy_rate_male  effective_literacy_rate_female  \\\n",
       "0                         85.49                           73.59   \n",
       "1                         94.77                           89.00   \n",
       "2                         88.18                           72.73   \n",
       "3                         89.98                           76.23   \n",
       "4                         76.58                           60.33   \n",
       "\n",
       "                location  total_graduates male_graduates  female_graduates  \n",
       "0  30.1452928,74.1993043            16287           8612              7675  \n",
       "1   21.257584,77.5086754             8863           5269              3594  \n",
       "2   19.0809075,79.560344            10565           6797              3768  \n",
       "3  22.7834741,86.1576889            19225          12189              7036  \n",
       "4  15.6322227,77.2728368            11902           7871              4031  \n",
       "\n",
       "[5 rows x 22 columns]"
      ]
     },
     "execution_count": 3,
     "metadata": {},
     "output_type": "execute_result"
    }
   ],
   "source": [
    "dt.head()\n",
    "# tip: You can specify the number of rows you'd like to see as follows: df_can.head(10) "
   ]
  },
  {
   "cell_type": "markdown",
   "metadata": {},
   "source": [
    "We can also veiw the bottom 5 rows of the dataset using the `tail()` function."
   ]
  },
  {
   "cell_type": "code",
   "execution_count": 4,
   "metadata": {},
   "outputs": [
    {
     "data": {
      "text/html": [
       "<div>\n",
       "<style scoped>\n",
       "    .dataframe tbody tr th:only-of-type {\n",
       "        vertical-align: middle;\n",
       "    }\n",
       "\n",
       "    .dataframe tbody tr th {\n",
       "        vertical-align: top;\n",
       "    }\n",
       "\n",
       "    .dataframe thead th {\n",
       "        text-align: right;\n",
       "    }\n",
       "</style>\n",
       "<table border=\"1\" class=\"dataframe\">\n",
       "  <thead>\n",
       "    <tr style=\"text-align: right;\">\n",
       "      <th></th>\n",
       "      <th>name_of_city</th>\n",
       "      <th>state_code</th>\n",
       "      <th>state_name</th>\n",
       "      <th>dist_code</th>\n",
       "      <th>population_total</th>\n",
       "      <th>population_male</th>\n",
       "      <th>population_female</th>\n",
       "      <th>0-6_population_total</th>\n",
       "      <th>0-6_population_male</th>\n",
       "      <th>0-6_population_female</th>\n",
       "      <th>...</th>\n",
       "      <th>literates_female</th>\n",
       "      <th>sex_ratio</th>\n",
       "      <th>child_sex_ratio</th>\n",
       "      <th>effective_literacy_rate_total</th>\n",
       "      <th>effective_literacy_rate_male</th>\n",
       "      <th>effective_literacy_rate_female</th>\n",
       "      <th>location</th>\n",
       "      <th>total_graduates</th>\n",
       "      <th>male_graduates</th>\n",
       "      <th>female_graduates</th>\n",
       "    </tr>\n",
       "  </thead>\n",
       "  <tbody>\n",
       "    <tr>\n",
       "      <th>488</th>\n",
       "      <td>Vizianagaram</td>\n",
       "      <td>28</td>\n",
       "      <td>ANDHRA PRADESH</td>\n",
       "      <td>12</td>\n",
       "      <td>227533</td>\n",
       "      <td>111596</td>\n",
       "      <td>115937</td>\n",
       "      <td>20487</td>\n",
       "      <td>10495</td>\n",
       "      <td>9992</td>\n",
       "      <td>...</td>\n",
       "      <td>80306</td>\n",
       "      <td>1039</td>\n",
       "      <td>952</td>\n",
       "      <td>81.85</td>\n",
       "      <td>88.18</td>\n",
       "      <td>75.80</td>\n",
       "      <td>18.1066576,83.3955506</td>\n",
       "      <td>30656</td>\n",
       "      <td>19173</td>\n",
       "      <td>11483</td>\n",
       "    </tr>\n",
       "    <tr>\n",
       "      <th>489</th>\n",
       "      <td>Warangal</td>\n",
       "      <td>28</td>\n",
       "      <td>ANDHRA PRADESH</td>\n",
       "      <td>9</td>\n",
       "      <td>620116</td>\n",
       "      <td>310400</td>\n",
       "      <td>309716</td>\n",
       "      <td>55392</td>\n",
       "      <td>28434</td>\n",
       "      <td>26958</td>\n",
       "      <td>...</td>\n",
       "      <td>217136</td>\n",
       "      <td>998</td>\n",
       "      <td>948</td>\n",
       "      <td>84.16</td>\n",
       "      <td>91.54</td>\n",
       "      <td>76.79</td>\n",
       "      <td>17.9689008,79.5940544</td>\n",
       "      <td>109613</td>\n",
       "      <td>69507</td>\n",
       "      <td>40106</td>\n",
       "    </tr>\n",
       "    <tr>\n",
       "      <th>490</th>\n",
       "      <td>Wardha</td>\n",
       "      <td>27</td>\n",
       "      <td>MAHARASHTRA</td>\n",
       "      <td>8</td>\n",
       "      <td>105543</td>\n",
       "      <td>53241</td>\n",
       "      <td>52302</td>\n",
       "      <td>9754</td>\n",
       "      <td>5139</td>\n",
       "      <td>4615</td>\n",
       "      <td>...</td>\n",
       "      <td>43339</td>\n",
       "      <td>982</td>\n",
       "      <td>898</td>\n",
       "      <td>94.05</td>\n",
       "      <td>97.19</td>\n",
       "      <td>90.88</td>\n",
       "      <td>20.745319,78.6021946</td>\n",
       "      <td>19363</td>\n",
       "      <td>10645</td>\n",
       "      <td>8718</td>\n",
       "    </tr>\n",
       "    <tr>\n",
       "      <th>491</th>\n",
       "      <td>Yamunanagar</td>\n",
       "      <td>6</td>\n",
       "      <td>HARYANA</td>\n",
       "      <td>3</td>\n",
       "      <td>216628</td>\n",
       "      <td>115404</td>\n",
       "      <td>101224</td>\n",
       "      <td>22905</td>\n",
       "      <td>12556</td>\n",
       "      <td>10349</td>\n",
       "      <td>...</td>\n",
       "      <td>74255</td>\n",
       "      <td>877</td>\n",
       "      <td>824</td>\n",
       "      <td>85.91</td>\n",
       "      <td>89.61</td>\n",
       "      <td>81.71</td>\n",
       "      <td>30.1290485,77.2673901</td>\n",
       "      <td>29803</td>\n",
       "      <td>14349</td>\n",
       "      <td>15454</td>\n",
       "    </tr>\n",
       "    <tr>\n",
       "      <th>492</th>\n",
       "      <td>Yavatmal</td>\n",
       "      <td>27</td>\n",
       "      <td>MAHARASHTRA</td>\n",
       "      <td>14</td>\n",
       "      <td>116714</td>\n",
       "      <td>58717</td>\n",
       "      <td>57997</td>\n",
       "      <td>11081</td>\n",
       "      <td>5894</td>\n",
       "      <td>5187</td>\n",
       "      <td>...</td>\n",
       "      <td>46561</td>\n",
       "      <td>988</td>\n",
       "      <td>880</td>\n",
       "      <td>91.81</td>\n",
       "      <td>95.45</td>\n",
       "      <td>88.17</td>\n",
       "      <td>20.3887937,78.1204073</td>\n",
       "      <td>13511</td>\n",
       "      <td>7397</td>\n",
       "      <td>6114</td>\n",
       "    </tr>\n",
       "  </tbody>\n",
       "</table>\n",
       "<p>5 rows × 22 columns</p>\n",
       "</div>"
      ],
      "text/plain": [
       "      name_of_city  state_code      state_name  dist_code  population_total  \\\n",
       "488  Vizianagaram           28  ANDHRA PRADESH         12            227533   \n",
       "489      Warangal           28  ANDHRA PRADESH          9            620116   \n",
       "490        Wardha           27     MAHARASHTRA          8            105543   \n",
       "491   Yamunanagar            6         HARYANA          3            216628   \n",
       "492      Yavatmal           27     MAHARASHTRA         14            116714   \n",
       "\n",
       "     population_male  population_female  0-6_population_total  \\\n",
       "488           111596             115937                 20487   \n",
       "489           310400             309716                 55392   \n",
       "490            53241              52302                  9754   \n",
       "491           115404             101224                 22905   \n",
       "492            58717              57997                 11081   \n",
       "\n",
       "     0-6_population_male  0-6_population_female  ...  literates_female  \\\n",
       "488                10495                   9992  ...             80306   \n",
       "489                28434                  26958  ...            217136   \n",
       "490                 5139                   4615  ...             43339   \n",
       "491                12556                  10349  ...             74255   \n",
       "492                 5894                   5187  ...             46561   \n",
       "\n",
       "     sex_ratio  child_sex_ratio  effective_literacy_rate_total  \\\n",
       "488       1039              952                          81.85   \n",
       "489        998              948                          84.16   \n",
       "490        982              898                          94.05   \n",
       "491        877              824                          85.91   \n",
       "492        988              880                          91.81   \n",
       "\n",
       "     effective_literacy_rate_male  effective_literacy_rate_female  \\\n",
       "488                         88.18                           75.80   \n",
       "489                         91.54                           76.79   \n",
       "490                         97.19                           90.88   \n",
       "491                         89.61                           81.71   \n",
       "492                         95.45                           88.17   \n",
       "\n",
       "                  location  total_graduates male_graduates  female_graduates  \n",
       "488  18.1066576,83.3955506            30656          19173             11483  \n",
       "489  17.9689008,79.5940544           109613          69507             40106  \n",
       "490   20.745319,78.6021946            19363          10645              8718  \n",
       "491  30.1290485,77.2673901            29803          14349             15454  \n",
       "492  20.3887937,78.1204073            13511           7397              6114  \n",
       "\n",
       "[5 rows x 22 columns]"
      ]
     },
     "execution_count": 4,
     "metadata": {},
     "output_type": "execute_result"
    }
   ],
   "source": [
    "dt.tail()"
   ]
  },
  {
   "cell_type": "markdown",
   "metadata": {},
   "source": [
    "When analyzing a dataset, it's always a good idea to start by getting basic information about your dataframe. We can do this by using the `info()` method."
   ]
  },
  {
   "cell_type": "code",
   "execution_count": 5,
   "metadata": {},
   "outputs": [
    {
     "name": "stdout",
     "output_type": "stream",
     "text": [
      "<class 'pandas.core.frame.DataFrame'>\n",
      "RangeIndex: 493 entries, 0 to 492\n",
      "Data columns (total 22 columns):\n",
      "name_of_city                      493 non-null object\n",
      "state_code                        493 non-null int64\n",
      "state_name                        493 non-null object\n",
      "dist_code                         493 non-null int64\n",
      "population_total                  493 non-null int64\n",
      "population_male                   493 non-null int64\n",
      "population_female                 493 non-null int64\n",
      "0-6_population_total              493 non-null int64\n",
      "0-6_population_male               493 non-null int64\n",
      "0-6_population_female             493 non-null int64\n",
      "literates_total                   493 non-null int64\n",
      "literates_male                    493 non-null int64\n",
      "literates_female                  493 non-null int64\n",
      "sex_ratio                         493 non-null int64\n",
      "child_sex_ratio                   493 non-null int64\n",
      "effective_literacy_rate_total     493 non-null float64\n",
      "effective_literacy_rate_male      493 non-null float64\n",
      "effective_literacy_rate_female    493 non-null float64\n",
      "location                          493 non-null object\n",
      "total_graduates                   493 non-null int64\n",
      "male_graduates                    493 non-null int64\n",
      "female_graduates                  493 non-null int64\n",
      "dtypes: float64(3), int64(16), object(3)\n",
      "memory usage: 84.8+ KB\n"
     ]
    }
   ],
   "source": [
    "dt.info()"
   ]
  },
  {
   "cell_type": "markdown",
   "metadata": {},
   "source": [
    "Note: The default type of index and columns is NOT list."
   ]
  },
  {
   "cell_type": "code",
   "execution_count": 6,
   "metadata": {},
   "outputs": [
    {
     "name": "stdout",
     "output_type": "stream",
     "text": [
      "<class 'pandas.core.indexes.base.Index'>\n",
      "<class 'pandas.core.indexes.range.RangeIndex'>\n"
     ]
    }
   ],
   "source": [
    "print(type(dt.columns))\n",
    "print(type(dt.index))"
   ]
  },
  {
   "cell_type": "markdown",
   "metadata": {},
   "source": [
    "To get the index and columns as lists, we can use the `tolist()` method."
   ]
  },
  {
   "cell_type": "code",
   "execution_count": 7,
   "metadata": {},
   "outputs": [
    {
     "name": "stdout",
     "output_type": "stream",
     "text": [
      "<class 'list'>\n",
      "<class 'list'>\n"
     ]
    }
   ],
   "source": [
    "dt.columns.tolist()\n",
    "dt.index.tolist()\n",
    "\n",
    "print (type(dt.columns.tolist()))\n",
    "print (type(dt.index.tolist()))"
   ]
  },
  {
   "cell_type": "markdown",
   "metadata": {},
   "source": [
    "To view the dimensions of the dataframe, we use the `.shape` parameter."
   ]
  },
  {
   "cell_type": "code",
   "execution_count": 8,
   "metadata": {},
   "outputs": [
    {
     "data": {
      "text/plain": [
       "(493, 22)"
      ]
     },
     "execution_count": 8,
     "metadata": {},
     "output_type": "execute_result"
    }
   ],
   "source": [
    "# size of dataframe (rows, columns)\n",
    "dt.shape    "
   ]
  },
  {
   "cell_type": "markdown",
   "metadata": {},
   "source": [
    "Note: The main types stored in *pandas* objects are *float*, *int*, *bool*, *datetime64[ns]* and *datetime64[ns, tz] (in >= 0.17.0)*, *timedelta[ns]*, *category (in >= 0.15.0)*, and *object* (string). In addition these dtypes have item sizes, e.g. int64 and int32. "
   ]
  },
  {
   "cell_type": "markdown",
   "metadata": {},
   "source": [
    "Let's clean the data set to remove a few unnecessary columns. We can use *pandas* `drop()` method as follows:"
   ]
  },
  {
   "cell_type": "code",
   "execution_count": 9,
   "metadata": {},
   "outputs": [
    {
     "data": {
      "text/html": [
       "<div>\n",
       "<style scoped>\n",
       "    .dataframe tbody tr th:only-of-type {\n",
       "        vertical-align: middle;\n",
       "    }\n",
       "\n",
       "    .dataframe tbody tr th {\n",
       "        vertical-align: top;\n",
       "    }\n",
       "\n",
       "    .dataframe thead th {\n",
       "        text-align: right;\n",
       "    }\n",
       "</style>\n",
       "<table border=\"1\" class=\"dataframe\">\n",
       "  <thead>\n",
       "    <tr style=\"text-align: right;\">\n",
       "      <th></th>\n",
       "      <th>name_of_city</th>\n",
       "      <th>state_name</th>\n",
       "      <th>population_total</th>\n",
       "      <th>population_male</th>\n",
       "      <th>population_female</th>\n",
       "      <th>0-6_population_total</th>\n",
       "      <th>0-6_population_male</th>\n",
       "      <th>0-6_population_female</th>\n",
       "      <th>literates_total</th>\n",
       "      <th>literates_male</th>\n",
       "      <th>literates_female</th>\n",
       "      <th>sex_ratio</th>\n",
       "      <th>child_sex_ratio</th>\n",
       "      <th>effective_literacy_rate_total</th>\n",
       "      <th>effective_literacy_rate_male</th>\n",
       "      <th>effective_literacy_rate_female</th>\n",
       "      <th>total_graduates</th>\n",
       "      <th>male_graduates</th>\n",
       "      <th>female_graduates</th>\n",
       "    </tr>\n",
       "  </thead>\n",
       "  <tbody>\n",
       "    <tr>\n",
       "      <th>0</th>\n",
       "      <td>Abohar</td>\n",
       "      <td>PUNJAB</td>\n",
       "      <td>145238</td>\n",
       "      <td>76840</td>\n",
       "      <td>68398</td>\n",
       "      <td>15870</td>\n",
       "      <td>8587</td>\n",
       "      <td>7283</td>\n",
       "      <td>103319</td>\n",
       "      <td>58347</td>\n",
       "      <td>44972</td>\n",
       "      <td>890</td>\n",
       "      <td>848</td>\n",
       "      <td>79.86</td>\n",
       "      <td>85.49</td>\n",
       "      <td>73.59</td>\n",
       "      <td>16287</td>\n",
       "      <td>8612</td>\n",
       "      <td>7675</td>\n",
       "    </tr>\n",
       "    <tr>\n",
       "      <th>1</th>\n",
       "      <td>Achalpur</td>\n",
       "      <td>MAHARASHTRA</td>\n",
       "      <td>112293</td>\n",
       "      <td>58256</td>\n",
       "      <td>54037</td>\n",
       "      <td>11810</td>\n",
       "      <td>6186</td>\n",
       "      <td>5624</td>\n",
       "      <td>92433</td>\n",
       "      <td>49347</td>\n",
       "      <td>43086</td>\n",
       "      <td>928</td>\n",
       "      <td>909</td>\n",
       "      <td>91.99</td>\n",
       "      <td>94.77</td>\n",
       "      <td>89.00</td>\n",
       "      <td>8863</td>\n",
       "      <td>5269</td>\n",
       "      <td>3594</td>\n",
       "    </tr>\n",
       "  </tbody>\n",
       "</table>\n",
       "</div>"
      ],
      "text/plain": [
       "  name_of_city   state_name  population_total  population_male  \\\n",
       "0      Abohar        PUNJAB            145238            76840   \n",
       "1    Achalpur   MAHARASHTRA            112293            58256   \n",
       "\n",
       "   population_female  0-6_population_total  0-6_population_male  \\\n",
       "0              68398                 15870                 8587   \n",
       "1              54037                 11810                 6186   \n",
       "\n",
       "   0-6_population_female  literates_total  literates_male  literates_female  \\\n",
       "0                   7283           103319           58347             44972   \n",
       "1                   5624            92433           49347             43086   \n",
       "\n",
       "   sex_ratio  child_sex_ratio  effective_literacy_rate_total  \\\n",
       "0        890              848                          79.86   \n",
       "1        928              909                          91.99   \n",
       "\n",
       "   effective_literacy_rate_male  effective_literacy_rate_female  \\\n",
       "0                         85.49                           73.59   \n",
       "1                         94.77                           89.00   \n",
       "\n",
       "   total_graduates  male_graduates  female_graduates  \n",
       "0            16287            8612              7675  \n",
       "1             8863            5269              3594  "
      ]
     },
     "execution_count": 9,
     "metadata": {},
     "output_type": "execute_result"
    }
   ],
   "source": [
    "# in pandas axis=0 represents rows (default) and axis=1 represents columns.\n",
    "dt.drop(['state_code', 'dist_code', 'location'], axis=1, inplace=True)\n",
    "dt.head(2)"
   ]
  },
  {
   "cell_type": "markdown",
   "metadata": {},
   "source": [
    "We can check to see how many null objects we have in the dataset as follows:"
   ]
  },
  {
   "cell_type": "code",
   "execution_count": 10,
   "metadata": {},
   "outputs": [
    {
     "data": {
      "text/plain": [
       "name_of_city                      0\n",
       "state_name                        0\n",
       "population_total                  0\n",
       "population_male                   0\n",
       "population_female                 0\n",
       "0-6_population_total              0\n",
       "0-6_population_male               0\n",
       "0-6_population_female             0\n",
       "literates_total                   0\n",
       "literates_male                    0\n",
       "literates_female                  0\n",
       "sex_ratio                         0\n",
       "child_sex_ratio                   0\n",
       "effective_literacy_rate_total     0\n",
       "effective_literacy_rate_male      0\n",
       "effective_literacy_rate_female    0\n",
       "total_graduates                   0\n",
       "male_graduates                    0\n",
       "female_graduates                  0\n",
       "dtype: int64"
      ]
     },
     "execution_count": 10,
     "metadata": {},
     "output_type": "execute_result"
    }
   ],
   "source": [
    "dt.isnull().sum()"
   ]
  },
  {
   "cell_type": "markdown",
   "metadata": {},
   "source": [
    "Before we proceed, notice that the defaul index of the dataset is a numeric range from 0 to 293. This makes it very difficult to do a query by a specific state. For example to search for data on RAJASTHAN, we need to know the corressponding index value.\n",
    "\n",
    "This can be fixed very easily by setting the 'state_name' column as the index using `set_index()` method."
   ]
  },
  {
   "cell_type": "code",
   "execution_count": 11,
   "metadata": {},
   "outputs": [],
   "source": [
    "dt.set_index('state_name', inplace=True)\n",
    "# tip: The opposite of set is reset. So to reset the index, we can use df_can.reset_index()"
   ]
  },
  {
   "cell_type": "code",
   "execution_count": 12,
   "metadata": {},
   "outputs": [
    {
     "data": {
      "text/html": [
       "<div>\n",
       "<style scoped>\n",
       "    .dataframe tbody tr th:only-of-type {\n",
       "        vertical-align: middle;\n",
       "    }\n",
       "\n",
       "    .dataframe tbody tr th {\n",
       "        vertical-align: top;\n",
       "    }\n",
       "\n",
       "    .dataframe thead th {\n",
       "        text-align: right;\n",
       "    }\n",
       "</style>\n",
       "<table border=\"1\" class=\"dataframe\">\n",
       "  <thead>\n",
       "    <tr style=\"text-align: right;\">\n",
       "      <th></th>\n",
       "      <th>name_of_city</th>\n",
       "      <th>population_total</th>\n",
       "      <th>population_male</th>\n",
       "      <th>population_female</th>\n",
       "      <th>0-6_population_total</th>\n",
       "      <th>0-6_population_male</th>\n",
       "      <th>0-6_population_female</th>\n",
       "      <th>literates_total</th>\n",
       "      <th>literates_male</th>\n",
       "      <th>literates_female</th>\n",
       "      <th>sex_ratio</th>\n",
       "      <th>child_sex_ratio</th>\n",
       "      <th>effective_literacy_rate_total</th>\n",
       "      <th>effective_literacy_rate_male</th>\n",
       "      <th>effective_literacy_rate_female</th>\n",
       "      <th>total_graduates</th>\n",
       "      <th>male_graduates</th>\n",
       "      <th>female_graduates</th>\n",
       "    </tr>\n",
       "    <tr>\n",
       "      <th>state_name</th>\n",
       "      <th></th>\n",
       "      <th></th>\n",
       "      <th></th>\n",
       "      <th></th>\n",
       "      <th></th>\n",
       "      <th></th>\n",
       "      <th></th>\n",
       "      <th></th>\n",
       "      <th></th>\n",
       "      <th></th>\n",
       "      <th></th>\n",
       "      <th></th>\n",
       "      <th></th>\n",
       "      <th></th>\n",
       "      <th></th>\n",
       "      <th></th>\n",
       "      <th></th>\n",
       "      <th></th>\n",
       "    </tr>\n",
       "  </thead>\n",
       "  <tbody>\n",
       "    <tr>\n",
       "      <th>PUNJAB</th>\n",
       "      <td>Abohar</td>\n",
       "      <td>145238</td>\n",
       "      <td>76840</td>\n",
       "      <td>68398</td>\n",
       "      <td>15870</td>\n",
       "      <td>8587</td>\n",
       "      <td>7283</td>\n",
       "      <td>103319</td>\n",
       "      <td>58347</td>\n",
       "      <td>44972</td>\n",
       "      <td>890</td>\n",
       "      <td>848</td>\n",
       "      <td>79.86</td>\n",
       "      <td>85.49</td>\n",
       "      <td>73.59</td>\n",
       "      <td>16287</td>\n",
       "      <td>8612</td>\n",
       "      <td>7675</td>\n",
       "    </tr>\n",
       "    <tr>\n",
       "      <th>MAHARASHTRA</th>\n",
       "      <td>Achalpur</td>\n",
       "      <td>112293</td>\n",
       "      <td>58256</td>\n",
       "      <td>54037</td>\n",
       "      <td>11810</td>\n",
       "      <td>6186</td>\n",
       "      <td>5624</td>\n",
       "      <td>92433</td>\n",
       "      <td>49347</td>\n",
       "      <td>43086</td>\n",
       "      <td>928</td>\n",
       "      <td>909</td>\n",
       "      <td>91.99</td>\n",
       "      <td>94.77</td>\n",
       "      <td>89.00</td>\n",
       "      <td>8863</td>\n",
       "      <td>5269</td>\n",
       "      <td>3594</td>\n",
       "    </tr>\n",
       "    <tr>\n",
       "      <th>ANDHRA PRADESH</th>\n",
       "      <td>Adilabad</td>\n",
       "      <td>117388</td>\n",
       "      <td>59232</td>\n",
       "      <td>58156</td>\n",
       "      <td>13103</td>\n",
       "      <td>6731</td>\n",
       "      <td>6372</td>\n",
       "      <td>83955</td>\n",
       "      <td>46295</td>\n",
       "      <td>37660</td>\n",
       "      <td>982</td>\n",
       "      <td>947</td>\n",
       "      <td>80.51</td>\n",
       "      <td>88.18</td>\n",
       "      <td>72.73</td>\n",
       "      <td>10565</td>\n",
       "      <td>6797</td>\n",
       "      <td>3768</td>\n",
       "    </tr>\n",
       "    <tr>\n",
       "      <th>JHARKHAND</th>\n",
       "      <td>Adityapur</td>\n",
       "      <td>173988</td>\n",
       "      <td>91495</td>\n",
       "      <td>82493</td>\n",
       "      <td>23042</td>\n",
       "      <td>12063</td>\n",
       "      <td>10979</td>\n",
       "      <td>125985</td>\n",
       "      <td>71470</td>\n",
       "      <td>54515</td>\n",
       "      <td>902</td>\n",
       "      <td>910</td>\n",
       "      <td>83.46</td>\n",
       "      <td>89.98</td>\n",
       "      <td>76.23</td>\n",
       "      <td>19225</td>\n",
       "      <td>12189</td>\n",
       "      <td>7036</td>\n",
       "    </tr>\n",
       "    <tr>\n",
       "      <th>ANDHRA PRADESH</th>\n",
       "      <td>Adoni</td>\n",
       "      <td>166537</td>\n",
       "      <td>82743</td>\n",
       "      <td>83794</td>\n",
       "      <td>18406</td>\n",
       "      <td>9355</td>\n",
       "      <td>9051</td>\n",
       "      <td>101292</td>\n",
       "      <td>56203</td>\n",
       "      <td>45089</td>\n",
       "      <td>1013</td>\n",
       "      <td>968</td>\n",
       "      <td>68.38</td>\n",
       "      <td>76.58</td>\n",
       "      <td>60.33</td>\n",
       "      <td>11902</td>\n",
       "      <td>7871</td>\n",
       "      <td>4031</td>\n",
       "    </tr>\n",
       "  </tbody>\n",
       "</table>\n",
       "</div>"
      ],
      "text/plain": [
       "               name_of_city  population_total  population_male  \\\n",
       "state_name                                                       \n",
       "PUNJAB              Abohar             145238            76840   \n",
       "MAHARASHTRA       Achalpur             112293            58256   \n",
       "ANDHRA PRADESH    Adilabad             117388            59232   \n",
       "JHARKHAND        Adityapur             173988            91495   \n",
       "ANDHRA PRADESH       Adoni             166537            82743   \n",
       "\n",
       "                population_female  0-6_population_total  0-6_population_male  \\\n",
       "state_name                                                                     \n",
       "PUNJAB                      68398                 15870                 8587   \n",
       "MAHARASHTRA                 54037                 11810                 6186   \n",
       "ANDHRA PRADESH              58156                 13103                 6731   \n",
       "JHARKHAND                   82493                 23042                12063   \n",
       "ANDHRA PRADESH              83794                 18406                 9355   \n",
       "\n",
       "                0-6_population_female  literates_total  literates_male  \\\n",
       "state_name                                                               \n",
       "PUNJAB                           7283           103319           58347   \n",
       "MAHARASHTRA                      5624            92433           49347   \n",
       "ANDHRA PRADESH                   6372            83955           46295   \n",
       "JHARKHAND                       10979           125985           71470   \n",
       "ANDHRA PRADESH                   9051           101292           56203   \n",
       "\n",
       "                literates_female  sex_ratio  child_sex_ratio  \\\n",
       "state_name                                                     \n",
       "PUNJAB                     44972        890              848   \n",
       "MAHARASHTRA                43086        928              909   \n",
       "ANDHRA PRADESH             37660        982              947   \n",
       "JHARKHAND                  54515        902              910   \n",
       "ANDHRA PRADESH             45089       1013              968   \n",
       "\n",
       "                effective_literacy_rate_total  effective_literacy_rate_male  \\\n",
       "state_name                                                                    \n",
       "PUNJAB                                  79.86                         85.49   \n",
       "MAHARASHTRA                             91.99                         94.77   \n",
       "ANDHRA PRADESH                          80.51                         88.18   \n",
       "JHARKHAND                               83.46                         89.98   \n",
       "ANDHRA PRADESH                          68.38                         76.58   \n",
       "\n",
       "                effective_literacy_rate_female  total_graduates  \\\n",
       "state_name                                                        \n",
       "PUNJAB                                   73.59            16287   \n",
       "MAHARASHTRA                              89.00             8863   \n",
       "ANDHRA PRADESH                           72.73            10565   \n",
       "JHARKHAND                                76.23            19225   \n",
       "ANDHRA PRADESH                           60.33            11902   \n",
       "\n",
       "                male_graduates  female_graduates  \n",
       "state_name                                        \n",
       "PUNJAB                    8612              7675  \n",
       "MAHARASHTRA               5269              3594  \n",
       "ANDHRA PRADESH            6797              3768  \n",
       "JHARKHAND                12189              7036  \n",
       "ANDHRA PRADESH            7871              4031  "
      ]
     },
     "execution_count": 12,
     "metadata": {},
     "output_type": "execute_result"
    }
   ],
   "source": [
    "dt.head()"
   ]
  },
  {
   "cell_type": "markdown",
   "metadata": {},
   "source": [
    "Finally, let's view a quick summary of each column in our dataframe using the `describe()` method."
   ]
  },
  {
   "cell_type": "code",
   "execution_count": 13,
   "metadata": {},
   "outputs": [
    {
     "data": {
      "text/html": [
       "<div>\n",
       "<style scoped>\n",
       "    .dataframe tbody tr th:only-of-type {\n",
       "        vertical-align: middle;\n",
       "    }\n",
       "\n",
       "    .dataframe tbody tr th {\n",
       "        vertical-align: top;\n",
       "    }\n",
       "\n",
       "    .dataframe thead th {\n",
       "        text-align: right;\n",
       "    }\n",
       "</style>\n",
       "<table border=\"1\" class=\"dataframe\">\n",
       "  <thead>\n",
       "    <tr style=\"text-align: right;\">\n",
       "      <th></th>\n",
       "      <th>population_total</th>\n",
       "      <th>population_male</th>\n",
       "      <th>population_female</th>\n",
       "      <th>0-6_population_total</th>\n",
       "      <th>0-6_population_male</th>\n",
       "      <th>0-6_population_female</th>\n",
       "      <th>literates_total</th>\n",
       "      <th>literates_male</th>\n",
       "      <th>literates_female</th>\n",
       "      <th>sex_ratio</th>\n",
       "      <th>child_sex_ratio</th>\n",
       "      <th>effective_literacy_rate_total</th>\n",
       "      <th>effective_literacy_rate_male</th>\n",
       "      <th>effective_literacy_rate_female</th>\n",
       "      <th>total_graduates</th>\n",
       "      <th>male_graduates</th>\n",
       "      <th>female_graduates</th>\n",
       "    </tr>\n",
       "  </thead>\n",
       "  <tbody>\n",
       "    <tr>\n",
       "      <th>count</th>\n",
       "      <td>4.930000e+02</td>\n",
       "      <td>4.930000e+02</td>\n",
       "      <td>4.930000e+02</td>\n",
       "      <td>4.930000e+02</td>\n",
       "      <td>493.000000</td>\n",
       "      <td>493.000000</td>\n",
       "      <td>4.930000e+02</td>\n",
       "      <td>4.930000e+02</td>\n",
       "      <td>4.930000e+02</td>\n",
       "      <td>493.000000</td>\n",
       "      <td>493.000000</td>\n",
       "      <td>493.000000</td>\n",
       "      <td>493.000000</td>\n",
       "      <td>493.000000</td>\n",
       "      <td>4.930000e+02</td>\n",
       "      <td>4.930000e+02</td>\n",
       "      <td>4.930000e+02</td>\n",
       "    </tr>\n",
       "    <tr>\n",
       "      <th>mean</th>\n",
       "      <td>4.481124e+05</td>\n",
       "      <td>2.343468e+05</td>\n",
       "      <td>2.137656e+05</td>\n",
       "      <td>4.709285e+04</td>\n",
       "      <td>24849.527383</td>\n",
       "      <td>22243.320487</td>\n",
       "      <td>3.461527e+05</td>\n",
       "      <td>1.894384e+05</td>\n",
       "      <td>1.567143e+05</td>\n",
       "      <td>930.294118</td>\n",
       "      <td>902.332657</td>\n",
       "      <td>85.131460</td>\n",
       "      <td>89.920162</td>\n",
       "      <td>79.967181</td>\n",
       "      <td>6.620236e+04</td>\n",
       "      <td>3.771556e+04</td>\n",
       "      <td>2.848680e+04</td>\n",
       "    </tr>\n",
       "    <tr>\n",
       "      <th>std</th>\n",
       "      <td>1.033228e+06</td>\n",
       "      <td>5.487786e+05</td>\n",
       "      <td>4.848622e+05</td>\n",
       "      <td>1.050279e+05</td>\n",
       "      <td>55535.310272</td>\n",
       "      <td>49523.241379</td>\n",
       "      <td>8.220952e+05</td>\n",
       "      <td>4.534753e+05</td>\n",
       "      <td>3.690677e+05</td>\n",
       "      <td>55.849106</td>\n",
       "      <td>49.794689</td>\n",
       "      <td>6.186345</td>\n",
       "      <td>5.377492</td>\n",
       "      <td>7.577825</td>\n",
       "      <td>1.778187e+05</td>\n",
       "      <td>9.849574e+04</td>\n",
       "      <td>7.951556e+04</td>\n",
       "    </tr>\n",
       "    <tr>\n",
       "      <th>min</th>\n",
       "      <td>1.000360e+05</td>\n",
       "      <td>5.020100e+04</td>\n",
       "      <td>4.512600e+04</td>\n",
       "      <td>6.547000e+03</td>\n",
       "      <td>3406.000000</td>\n",
       "      <td>3107.000000</td>\n",
       "      <td>5.699800e+04</td>\n",
       "      <td>3.475100e+04</td>\n",
       "      <td>2.224700e+04</td>\n",
       "      <td>700.000000</td>\n",
       "      <td>762.000000</td>\n",
       "      <td>49.510000</td>\n",
       "      <td>52.270000</td>\n",
       "      <td>46.450000</td>\n",
       "      <td>2.532000e+03</td>\n",
       "      <td>1.703000e+03</td>\n",
       "      <td>8.290000e+02</td>\n",
       "    </tr>\n",
       "    <tr>\n",
       "      <th>25%</th>\n",
       "      <td>1.261420e+05</td>\n",
       "      <td>6.638400e+04</td>\n",
       "      <td>6.041100e+04</td>\n",
       "      <td>1.363900e+04</td>\n",
       "      <td>7221.000000</td>\n",
       "      <td>6457.000000</td>\n",
       "      <td>9.768700e+04</td>\n",
       "      <td>5.357800e+04</td>\n",
       "      <td>4.391400e+04</td>\n",
       "      <td>890.000000</td>\n",
       "      <td>868.000000</td>\n",
       "      <td>81.750000</td>\n",
       "      <td>87.280000</td>\n",
       "      <td>75.800000</td>\n",
       "      <td>1.527700e+04</td>\n",
       "      <td>9.289000e+03</td>\n",
       "      <td>6.114000e+03</td>\n",
       "    </tr>\n",
       "    <tr>\n",
       "      <th>50%</th>\n",
       "      <td>1.841330e+05</td>\n",
       "      <td>9.665500e+04</td>\n",
       "      <td>8.776800e+04</td>\n",
       "      <td>1.944000e+04</td>\n",
       "      <td>10342.000000</td>\n",
       "      <td>9172.000000</td>\n",
       "      <td>1.413290e+05</td>\n",
       "      <td>7.590600e+04</td>\n",
       "      <td>6.383600e+04</td>\n",
       "      <td>922.000000</td>\n",
       "      <td>903.000000</td>\n",
       "      <td>85.970000</td>\n",
       "      <td>91.180000</td>\n",
       "      <td>80.920000</td>\n",
       "      <td>2.395900e+04</td>\n",
       "      <td>1.404900e+04</td>\n",
       "      <td>9.558000e+03</td>\n",
       "    </tr>\n",
       "    <tr>\n",
       "      <th>75%</th>\n",
       "      <td>3.490330e+05</td>\n",
       "      <td>1.750550e+05</td>\n",
       "      <td>1.700260e+05</td>\n",
       "      <td>3.794500e+04</td>\n",
       "      <td>19982.000000</td>\n",
       "      <td>17954.000000</td>\n",
       "      <td>2.679000e+05</td>\n",
       "      <td>1.455480e+05</td>\n",
       "      <td>1.235030e+05</td>\n",
       "      <td>971.000000</td>\n",
       "      <td>942.000000</td>\n",
       "      <td>89.330000</td>\n",
       "      <td>93.400000</td>\n",
       "      <td>85.400000</td>\n",
       "      <td>5.036700e+04</td>\n",
       "      <td>2.787200e+04</td>\n",
       "      <td>2.086600e+04</td>\n",
       "    </tr>\n",
       "    <tr>\n",
       "      <th>max</th>\n",
       "      <td>1.247845e+07</td>\n",
       "      <td>6.736815e+06</td>\n",
       "      <td>5.741632e+06</td>\n",
       "      <td>1.209275e+06</td>\n",
       "      <td>647938.000000</td>\n",
       "      <td>561337.000000</td>\n",
       "      <td>1.023759e+07</td>\n",
       "      <td>5.727774e+06</td>\n",
       "      <td>4.509812e+06</td>\n",
       "      <td>1093.000000</td>\n",
       "      <td>1185.000000</td>\n",
       "      <td>98.800000</td>\n",
       "      <td>99.300000</td>\n",
       "      <td>98.310000</td>\n",
       "      <td>2.221137e+06</td>\n",
       "      <td>1.210040e+06</td>\n",
       "      <td>1.011097e+06</td>\n",
       "    </tr>\n",
       "  </tbody>\n",
       "</table>\n",
       "</div>"
      ],
      "text/plain": [
       "       population_total  population_male  population_female  \\\n",
       "count      4.930000e+02     4.930000e+02       4.930000e+02   \n",
       "mean       4.481124e+05     2.343468e+05       2.137656e+05   \n",
       "std        1.033228e+06     5.487786e+05       4.848622e+05   \n",
       "min        1.000360e+05     5.020100e+04       4.512600e+04   \n",
       "25%        1.261420e+05     6.638400e+04       6.041100e+04   \n",
       "50%        1.841330e+05     9.665500e+04       8.776800e+04   \n",
       "75%        3.490330e+05     1.750550e+05       1.700260e+05   \n",
       "max        1.247845e+07     6.736815e+06       5.741632e+06   \n",
       "\n",
       "       0-6_population_total  0-6_population_male  0-6_population_female  \\\n",
       "count          4.930000e+02           493.000000             493.000000   \n",
       "mean           4.709285e+04         24849.527383           22243.320487   \n",
       "std            1.050279e+05         55535.310272           49523.241379   \n",
       "min            6.547000e+03          3406.000000            3107.000000   \n",
       "25%            1.363900e+04          7221.000000            6457.000000   \n",
       "50%            1.944000e+04         10342.000000            9172.000000   \n",
       "75%            3.794500e+04         19982.000000           17954.000000   \n",
       "max            1.209275e+06        647938.000000          561337.000000   \n",
       "\n",
       "       literates_total  literates_male  literates_female    sex_ratio  \\\n",
       "count     4.930000e+02    4.930000e+02      4.930000e+02   493.000000   \n",
       "mean      3.461527e+05    1.894384e+05      1.567143e+05   930.294118   \n",
       "std       8.220952e+05    4.534753e+05      3.690677e+05    55.849106   \n",
       "min       5.699800e+04    3.475100e+04      2.224700e+04   700.000000   \n",
       "25%       9.768700e+04    5.357800e+04      4.391400e+04   890.000000   \n",
       "50%       1.413290e+05    7.590600e+04      6.383600e+04   922.000000   \n",
       "75%       2.679000e+05    1.455480e+05      1.235030e+05   971.000000   \n",
       "max       1.023759e+07    5.727774e+06      4.509812e+06  1093.000000   \n",
       "\n",
       "       child_sex_ratio  effective_literacy_rate_total  \\\n",
       "count       493.000000                     493.000000   \n",
       "mean        902.332657                      85.131460   \n",
       "std          49.794689                       6.186345   \n",
       "min         762.000000                      49.510000   \n",
       "25%         868.000000                      81.750000   \n",
       "50%         903.000000                      85.970000   \n",
       "75%         942.000000                      89.330000   \n",
       "max        1185.000000                      98.800000   \n",
       "\n",
       "       effective_literacy_rate_male  effective_literacy_rate_female  \\\n",
       "count                    493.000000                      493.000000   \n",
       "mean                      89.920162                       79.967181   \n",
       "std                        5.377492                        7.577825   \n",
       "min                       52.270000                       46.450000   \n",
       "25%                       87.280000                       75.800000   \n",
       "50%                       91.180000                       80.920000   \n",
       "75%                       93.400000                       85.400000   \n",
       "max                       99.300000                       98.310000   \n",
       "\n",
       "       total_graduates  male_graduates  female_graduates  \n",
       "count     4.930000e+02    4.930000e+02      4.930000e+02  \n",
       "mean      6.620236e+04    3.771556e+04      2.848680e+04  \n",
       "std       1.778187e+05    9.849574e+04      7.951556e+04  \n",
       "min       2.532000e+03    1.703000e+03      8.290000e+02  \n",
       "25%       1.527700e+04    9.289000e+03      6.114000e+03  \n",
       "50%       2.395900e+04    1.404900e+04      9.558000e+03  \n",
       "75%       5.036700e+04    2.787200e+04      2.086600e+04  \n",
       "max       2.221137e+06    1.210040e+06      1.011097e+06  "
      ]
     },
     "execution_count": 13,
     "metadata": {},
     "output_type": "execute_result"
    }
   ],
   "source": [
    "dt.describe()"
   ]
  },
  {
   "cell_type": "markdown",
   "metadata": {},
   "source": [
    "## Matplotlib: Standard Python Visualization Library<a id=\"10\"></a>\n",
    "\n",
    "The primary plotting library we will explore in the course is [Matplotlib](http://matplotlib.org/).  As mentioned on their website: \n",
    ">Matplotlib is a Python 2D plotting library which produces publication quality figures in a variety of hardcopy formats and interactive environments across platforms. Matplotlib can be used in Python scripts, the Python and IPython shell, the jupyter notebook, web application servers, and four graphical user interface toolkits.\n",
    "\n",
    "If you are aspiring to create impactful visualization with python, Matplotlib is an essential tool to have at your disposal."
   ]
  },
  {
   "cell_type": "markdown",
   "metadata": {},
   "source": [
    "### Matplotlib.Pyplot\n",
    "\n",
    "One of the core aspects of Matplotlib is `matplotlib.pyplot`. It is Matplotlib's scripting layer which we studied in details in the videos about Matplotlib. Recall that it is a collection of command style functions that make Matplotlib work like MATLAB. Each `pyplot` function makes some change to a figure: e.g., creates a figure, creates a plotting area in a figure, plots some lines in a plotting area, decorates the plot with labels, etc. In this lab, we will work with the scripting layer to learn how to generate line plots. In future labs, we will get to work with the Artist layer as well to experiment first hand how it differs from the scripting layer. \n"
   ]
  },
  {
   "cell_type": "markdown",
   "metadata": {},
   "source": [
    "Let's start by importing `Matplotlib` and `Matplotlib.pyplot` as follows:"
   ]
  },
  {
   "cell_type": "code",
   "execution_count": 14,
   "metadata": {},
   "outputs": [],
   "source": [
    "# we are using the inline backend\n",
    "%matplotlib inline \n",
    "\n",
    "import matplotlib as mpl\n",
    "import matplotlib.pyplot as plt"
   ]
  },
  {
   "cell_type": "markdown",
   "metadata": {},
   "source": [
    "*optional: check if Matplotlib is loaded."
   ]
  },
  {
   "cell_type": "code",
   "execution_count": 15,
   "metadata": {},
   "outputs": [
    {
     "name": "stdout",
     "output_type": "stream",
     "text": [
      "Matplotlib version:  3.0.3\n"
     ]
    }
   ],
   "source": [
    "print ('Matplotlib version: ', mpl.__version__) # >= 2.0.0"
   ]
  },
  {
   "cell_type": "markdown",
   "metadata": {},
   "source": [
    "*optional: apply a style to Matplotlib."
   ]
  },
  {
   "cell_type": "code",
   "execution_count": 16,
   "metadata": {},
   "outputs": [
    {
     "name": "stdout",
     "output_type": "stream",
     "text": [
      "['Solarize_Light2', '_classic_test', 'bmh', 'classic', 'dark_background', 'fast', 'fivethirtyeight', 'ggplot', 'grayscale', 'seaborn-bright', 'seaborn-colorblind', 'seaborn-dark-palette', 'seaborn-dark', 'seaborn-darkgrid', 'seaborn-deep', 'seaborn-muted', 'seaborn-notebook', 'seaborn-paper', 'seaborn-pastel', 'seaborn-poster', 'seaborn-talk', 'seaborn-ticks', 'seaborn-white', 'seaborn-whitegrid', 'seaborn', 'tableau-colorblind10']\n"
     ]
    }
   ],
   "source": [
    "print(plt.style.available)\n",
    "mpl.style.use(['ggplot']) # optional: for ggplot-like style"
   ]
  },
  {
   "cell_type": "markdown",
   "metadata": {},
   "source": [
    "### Plotting in *pandas*\n",
    "\n",
    "Fortunately, pandas has a built-in implementation of Matplotlib that we can use. Plotting in *pandas* is as simple as appending a `.plot()` method to a series or dataframe.\n",
    "\n",
    "Documentation:\n",
    "- [Plotting with Series](http://pandas.pydata.org/pandas-docs/stable/api.html#plotting)<br>\n",
    "- [Plotting with Dataframes](http://pandas.pydata.org/pandas-docs/stable/api.html#api-dataframe-plotting)"
   ]
  },
  {
   "cell_type": "markdown",
   "metadata": {},
   "source": [
    "# Line Pots (Series/Dataframe) <a id=\"12\"></a>"
   ]
  },
  {
   "cell_type": "markdown",
   "metadata": {},
   "source": [
    "### Plotting in *pandas*\n",
    "\n",
    "Fortunately, pandas has a built-in implementation of Matplotlib that we can use. Plotting in *pandas* is as simple as appending a `.plot()` method to a series or dataframe.\n",
    "\n",
    "Documentation:\n",
    "- [Plotting with Series](http://pandas.pydata.org/pandas-docs/stable/api.html#plotting)<br>\n",
    "- [Plotting with Dataframes](http://pandas.pydata.org/pandas-docs/stable/api.html#api-dataframe-plotting)"
   ]
  },
  {
   "cell_type": "markdown",
   "metadata": {},
   "source": [
    "**What is a line plot and why use it?**\n",
    "\n",
    "A line chart or line plot is a type of plot which displays information as a series of data points called 'markers' connected by straight line segments. It is a basic type of chart common in many fields.\n",
    "Use line plot when you have a continuous data set. These are best suited for trend-based visualizations of data over a period of time."
   ]
  },
  {
   "cell_type": "markdown",
   "metadata": {},
   "source": [
    "**Let's start with a case study:**\n",
    "\n",
    "Let us compare the total population of Kerala state to know the trend of population in each district. We can quickly visualize this effort using a `Line` plot:\n",
    "\n",
    "**Question:** Plot a line graph of population from Kerala using `df.plot()`.\n"
   ]
  },
  {
   "cell_type": "markdown",
   "metadata": {},
   "source": [
    "First, we will extract the data series for Kerala State."
   ]
  },
  {
   "cell_type": "code",
   "execution_count": 17,
   "metadata": {},
   "outputs": [
    {
     "data": {
      "text/html": [
       "<div>\n",
       "<style scoped>\n",
       "    .dataframe tbody tr th:only-of-type {\n",
       "        vertical-align: middle;\n",
       "    }\n",
       "\n",
       "    .dataframe tbody tr th {\n",
       "        vertical-align: top;\n",
       "    }\n",
       "\n",
       "    .dataframe thead th {\n",
       "        text-align: right;\n",
       "    }\n",
       "</style>\n",
       "<table border=\"1\" class=\"dataframe\">\n",
       "  <thead>\n",
       "    <tr style=\"text-align: right;\">\n",
       "      <th></th>\n",
       "      <th>population_total</th>\n",
       "    </tr>\n",
       "    <tr>\n",
       "      <th>name_of_city</th>\n",
       "      <th></th>\n",
       "    </tr>\n",
       "  </thead>\n",
       "  <tbody>\n",
       "    <tr>\n",
       "      <th>Alappuzha</th>\n",
       "      <td>174164</td>\n",
       "    </tr>\n",
       "    <tr>\n",
       "      <th>Kochi</th>\n",
       "      <td>601574</td>\n",
       "    </tr>\n",
       "    <tr>\n",
       "      <th>Kollam</th>\n",
       "      <td>349033</td>\n",
       "    </tr>\n",
       "    <tr>\n",
       "      <th>Kozhikode</th>\n",
       "      <td>432097</td>\n",
       "    </tr>\n",
       "    <tr>\n",
       "      <th>Palakkad</th>\n",
       "      <td>131019</td>\n",
       "    </tr>\n",
       "  </tbody>\n",
       "</table>\n",
       "</div>"
      ],
      "text/plain": [
       "              population_total\n",
       "name_of_city                  \n",
       "Alappuzha               174164\n",
       "Kochi                   601574\n",
       "Kollam                  349033\n",
       "Kozhikode               432097\n",
       "Palakkad                131019"
      ]
     },
     "execution_count": 17,
     "metadata": {},
     "output_type": "execute_result"
    }
   ],
   "source": [
    "kl = dt.loc['KERALA',['name_of_city', 'population_total']]\n",
    "kl.set_index('name_of_city', inplace= True)\n",
    "kl.head()"
   ]
  },
  {
   "cell_type": "markdown",
   "metadata": {},
   "source": [
    "Next, we will plot a line plot by appending `.plot()` to the `kl` dataframe."
   ]
  },
  {
   "cell_type": "code",
   "execution_count": 18,
   "metadata": {},
   "outputs": [
    {
     "data": {
      "text/plain": [
       "<matplotlib.axes._subplots.AxesSubplot at 0x7fd97306a5f8>"
      ]
     },
     "execution_count": 18,
     "metadata": {},
     "output_type": "execute_result"
    },
    {
     "data": {
      "image/png": "[encoded data removed]",
      "text/plain": [
       "<Figure size 432x288 with 1 Axes>"
      ]
     },
     "metadata": {},
     "output_type": "display_data"
    }
   ],
   "source": [
    "kl.plot()"
   ]
  },
  {
   "cell_type": "markdown",
   "metadata": {},
   "source": [
    "*pandas* automatically populated the x-axis with the index values (state_name), and the y-axis with the column values (population). However, notice how the name_city were not displayed properly because pandas took default figure size. Therefore, let's change the figure size for plotting.\n",
    "\n",
    "Also, let's label the x and y axis using `plt.title()`, `plt.ylabel()`, and `plt.xlabel()` as follows:"
   ]
  },
  {
   "cell_type": "code",
   "execution_count": 19,
   "metadata": {},
   "outputs": [
    {
     "data": {
      "image/png": "[encoded data removed]",
      "text/plain": [
       "<Figure size 648x288 with 1 Axes>"
      ]
     },
     "metadata": {},
     "output_type": "display_data"
    }
   ],
   "source": [
    "kl.plot(kind='line',figsize=(9,4))\n",
    "\n",
    "plt.title('State-wise Population')\n",
    "plt.ylabel('Population')\n",
    "plt.xlabel('District Name')\n",
    "\n",
    "plt.show() # need this line to show the updates made to the figure"
   ]
  },
  {
   "cell_type": "markdown",
   "metadata": {},
   "source": [
    "Let us see the male and female population in cities of kerala"
   ]
  },
  {
   "cell_type": "code",
   "execution_count": 20,
   "metadata": {},
   "outputs": [
    {
     "data": {
      "text/html": [
       "<div>\n",
       "<style scoped>\n",
       "    .dataframe tbody tr th:only-of-type {\n",
       "        vertical-align: middle;\n",
       "    }\n",
       "\n",
       "    .dataframe tbody tr th {\n",
       "        vertical-align: top;\n",
       "    }\n",
       "\n",
       "    .dataframe thead th {\n",
       "        text-align: right;\n",
       "    }\n",
       "</style>\n",
       "<table border=\"1\" class=\"dataframe\">\n",
       "  <thead>\n",
       "    <tr style=\"text-align: right;\">\n",
       "      <th></th>\n",
       "      <th>population_male</th>\n",
       "      <th>population_female</th>\n",
       "    </tr>\n",
       "    <tr>\n",
       "      <th>name_of_city</th>\n",
       "      <th></th>\n",
       "      <th></th>\n",
       "    </tr>\n",
       "  </thead>\n",
       "  <tbody>\n",
       "    <tr>\n",
       "      <th>Alappuzha</th>\n",
       "      <td>83888</td>\n",
       "      <td>90276</td>\n",
       "    </tr>\n",
       "    <tr>\n",
       "      <th>Kochi</th>\n",
       "      <td>296668</td>\n",
       "      <td>304906</td>\n",
       "    </tr>\n",
       "    <tr>\n",
       "      <th>Kollam</th>\n",
       "      <td>168076</td>\n",
       "      <td>180957</td>\n",
       "    </tr>\n",
       "    <tr>\n",
       "      <th>Kozhikode</th>\n",
       "      <td>206494</td>\n",
       "      <td>225603</td>\n",
       "    </tr>\n",
       "    <tr>\n",
       "      <th>Palakkad</th>\n",
       "      <td>63833</td>\n",
       "      <td>67186</td>\n",
       "    </tr>\n",
       "  </tbody>\n",
       "</table>\n",
       "</div>"
      ],
      "text/plain": [
       "              population_male  population_female\n",
       "name_of_city                                    \n",
       "Alappuzha               83888              90276\n",
       "Kochi                  296668             304906\n",
       "Kollam                 168076             180957\n",
       "Kozhikode              206494             225603\n",
       "Palakkad                63833              67186"
      ]
     },
     "execution_count": 20,
     "metadata": {},
     "output_type": "execute_result"
    }
   ],
   "source": [
    "kl_mf = dt.loc['KERALA',['name_of_city', 'population_male', 'population_female']]\n",
    "kl_mf.set_index('name_of_city', inplace= True)\n",
    "kl_mf.head()"
   ]
  },
  {
   "cell_type": "code",
   "execution_count": 21,
   "metadata": {},
   "outputs": [
    {
     "data": {
      "image/png": "[encoded data removed]",
      "text/plain": [
       "<Figure size 648x288 with 1 Axes>"
      ]
     },
     "metadata": {},
     "output_type": "display_data"
    }
   ],
   "source": [
    "kl_mf.plot(kind='line',figsize=(9,4))\n",
    "\n",
    "plt.title('State-wise Population')\n",
    "plt.ylabel('Population')\n",
    "plt.xlabel('District Name')\n",
    "\n",
    "plt.show() # need this line to show the updates made to the figure"
   ]
  },
  {
   "cell_type": "markdown",
   "metadata": {},
   "source": [
    "Line plot is a handy tool to display several dependent variables against one independent variable. However, it is recommended that no more than 5-10 lines on a single graph; any more than that and it becomes difficult to interpret."
   ]
  },
  {
   "cell_type": "markdown",
   "metadata": {},
   "source": [
    " Compare the trend of different total_population(like 0-6, literates, graduates,etc)"
   ]
  },
  {
   "cell_type": "code",
   "execution_count": 22,
   "metadata": {},
   "outputs": [
    {
     "data": {
      "text/html": [
       "<div>\n",
       "<style scoped>\n",
       "    .dataframe tbody tr th:only-of-type {\n",
       "        vertical-align: middle;\n",
       "    }\n",
       "\n",
       "    .dataframe tbody tr th {\n",
       "        vertical-align: top;\n",
       "    }\n",
       "\n",
       "    .dataframe thead th {\n",
       "        text-align: right;\n",
       "    }\n",
       "</style>\n",
       "<table border=\"1\" class=\"dataframe\">\n",
       "  <thead>\n",
       "    <tr style=\"text-align: right;\">\n",
       "      <th></th>\n",
       "      <th>population_total</th>\n",
       "      <th>0-6_population_total</th>\n",
       "      <th>literates_total</th>\n",
       "      <th>total_graduates</th>\n",
       "    </tr>\n",
       "    <tr>\n",
       "      <th>name_of_city</th>\n",
       "      <th></th>\n",
       "      <th></th>\n",
       "      <th></th>\n",
       "      <th></th>\n",
       "    </tr>\n",
       "  </thead>\n",
       "  <tbody>\n",
       "    <tr>\n",
       "      <th>Alappuzha</th>\n",
       "      <td>174164</td>\n",
       "      <td>15434</td>\n",
       "      <td>153269</td>\n",
       "      <td>22263</td>\n",
       "    </tr>\n",
       "    <tr>\n",
       "      <th>Kochi</th>\n",
       "      <td>601574</td>\n",
       "      <td>52466</td>\n",
       "      <td>535318</td>\n",
       "      <td>115773</td>\n",
       "    </tr>\n",
       "    <tr>\n",
       "      <th>Kollam</th>\n",
       "      <td>349033</td>\n",
       "      <td>31304</td>\n",
       "      <td>292641</td>\n",
       "      <td>39521</td>\n",
       "    </tr>\n",
       "    <tr>\n",
       "      <th>Kozhikode</th>\n",
       "      <td>432097</td>\n",
       "      <td>41574</td>\n",
       "      <td>378033</td>\n",
       "      <td>61225</td>\n",
       "    </tr>\n",
       "    <tr>\n",
       "      <th>Palakkad</th>\n",
       "      <td>131019</td>\n",
       "      <td>11614</td>\n",
       "      <td>112479</td>\n",
       "      <td>16827</td>\n",
       "    </tr>\n",
       "  </tbody>\n",
       "</table>\n",
       "</div>"
      ],
      "text/plain": [
       "              population_total  0-6_population_total  literates_total  \\\n",
       "name_of_city                                                            \n",
       "Alappuzha               174164                 15434           153269   \n",
       "Kochi                   601574                 52466           535318   \n",
       "Kollam                  349033                 31304           292641   \n",
       "Kozhikode               432097                 41574           378033   \n",
       "Palakkad                131019                 11614           112479   \n",
       "\n",
       "              total_graduates  \n",
       "name_of_city                   \n",
       "Alappuzha               22263  \n",
       "Kochi                  115773  \n",
       "Kollam                  39521  \n",
       "Kozhikode               61225  \n",
       "Palakkad                16827  "
      ]
     },
     "execution_count": 22,
     "metadata": {},
     "output_type": "execute_result"
    }
   ],
   "source": [
    "kl_to = dt.loc['KERALA',['name_of_city','population_total', '0-6_population_total', 'literates_total', 'total_graduates']]\n",
    "kl_to.set_index('name_of_city', inplace= True)\n",
    "kl_to.head()"
   ]
  },
  {
   "cell_type": "code",
   "execution_count": 23,
   "metadata": {},
   "outputs": [
    {
     "data": {
      "image/png": "[encoded data removed]",
      "text/plain": [
       "<Figure size 648x288 with 1 Axes>"
      ]
     },
     "metadata": {},
     "output_type": "display_data"
    }
   ],
   "source": [
    "kl_to.plot(kind='line',figsize=(9,4))\n",
    "\n",
    "plt.title('State-wise Population')\n",
    "plt.ylabel('Population')\n",
    "plt.xlabel('District Name')\n",
    "\n",
    "plt.show() # need this line to show the updates made to the figure"
   ]
  },
  {
   "cell_type": "code",
   "execution_count": 24,
   "metadata": {},
   "outputs": [
    {
     "data": {
      "image/png": "[encoded data removed]",
      "text/plain": [
       "<Figure size 648x288 with 1 Axes>"
      ]
     },
     "metadata": {},
     "output_type": "display_data"
    }
   ],
   "source": [
    "kl_to.plot(kind='kde',figsize=(9,4))\n",
    "\n",
    "plt.title('State-wise Population')\n",
    "plt.ylabel('Population')\n",
    "plt.xlabel('District Name')\n",
    "\n",
    "plt.show() # need this line to show the updates made to the figure"
   ]
  },
  {
   "cell_type": "code",
   "execution_count": null,
   "metadata": {},
   "outputs": [],
   "source": []
  },
  {
   "cell_type": "code",
   "execution_count": null,
   "metadata": {},
   "outputs": [],
   "source": []
  }
 ],
 "metadata": {
  "kernelspec": {
   "display_name": "Python 3",
   "language": "python",
   "name": "python3"
  },
  "language_info": {
   "codemirror_mode": {
    "name": "ipython",
    "version": 3
   },
   "file_extension": ".py",
   "mimetype": "text/x-python",
   "name": "python",
   "nbconvert_exporter": "python",
   "pygments_lexer": "ipython3",
   "version": "3.6.8"
  }
 },
 "nbformat": 4,
 "nbformat_minor": 2
}
